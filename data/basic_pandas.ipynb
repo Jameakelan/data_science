{
 "cells": [
  {
   "cell_type": "code",
   "execution_count": 1,
   "metadata": {},
   "outputs": [],
   "source": [
    "import pandas as pd\n",
    "import numpy as np"
   ]
  },
  {
   "cell_type": "markdown",
   "metadata": {},
   "source": [
    "# Pandas Series"
   ]
  },
  {
   "cell_type": "code",
   "execution_count": null,
   "metadata": {},
   "outputs": [],
   "source": [
    "# explained \n",
    "# https://www.datasciencemadesimple.com/create-series-in-python-pandas/"
   ]
  },
  {
   "cell_type": "code",
   "execution_count": 10,
   "metadata": {},
   "outputs": [
    {
     "data": {
      "text/plain": [
       "a    0.462334\n",
       "b    1.192695\n",
       "c    0.008224\n",
       "d    0.050993\n",
       "e   -0.322666\n",
       "dtype: float64"
      ]
     },
     "execution_count": 10,
     "metadata": {},
     "output_type": "execute_result"
    }
   ],
   "source": [
    "\"\"\"\n",
    "\n",
    "    Pandas Series is a column of table.\n",
    "    It is one-dimension array.\n",
    "\n",
    "    Labels is index of series for using get value which can refer to value.\n",
    "    \n",
    "    `series[\"a\"]`\n",
    "\n",
    "    if not specific get value be like `series[0]`\n",
    "\"\"\"\n",
    " \n",
    "series = pd.Series(np.random.randn(5), index=[\"a\", \"b\", \"c\", \"d\", \"e\"])\n",
    "series"
   ]
  },
  {
   "cell_type": "code",
   "execution_count": 52,
   "metadata": {},
   "outputs": [
    {
     "data": {
      "text/plain": [
       "c    3\n",
       "dtype: int64"
      ]
     },
     "execution_count": 52,
     "metadata": {},
     "output_type": "execute_result"
    }
   ],
   "source": [
    "\"\"\"\n",
    " Create a series with dict\n",
    "\"\"\"\n",
    "\n",
    "data = {\n",
    "    \"a\" : 1,\n",
    "    \"b\" : 2,\n",
    "    \"c\" : 3,\n",
    "    \"d\" : 4\n",
    "}\n",
    "\n",
    "s = pd.Series(data)"
   ]
  },
  {
   "cell_type": "code",
   "execution_count": 67,
   "metadata": {},
   "outputs": [
    {
     "data": {
      "text/plain": [
       "a    1\n",
       "b    2\n",
       "dtype: int64"
      ]
     },
     "execution_count": 67,
     "metadata": {},
     "output_type": "execute_result"
    }
   ],
   "source": [
    "\"\"\"\n",
    " Series is ndarray-like\n",
    " \n",
    " `Slice` index\n",
    "\n",
    "\"\"\"\n",
    "\n",
    "s[:2] # index 0 to n-1"
   ]
  },
  {
   "cell_type": "code",
   "execution_count": 73,
   "metadata": {},
   "outputs": [
    {
     "name": "stdout",
     "output_type": "stream",
     "text": [
      "========= Statistic =========\n",
      "c    3\n",
      "d    4\n",
      "dtype: int64\n",
      "========= combine with numpy ==========\n",
      "a     2.718282\n",
      "b     7.389056\n",
      "c    20.085537\n",
      "d    54.598150\n",
      "dtype: float64\n"
     ]
    }
   ],
   "source": [
    "\"\"\"\n",
    "\n",
    "Statistical methods from ndarray have been overridden to automatically exclude\n",
    "missing data (currently represented as NaN).\n",
    "\n",
    "\"\"\"\n",
    "print(\"========= Statistic =========\")\n",
    "\n",
    "print(s[ s > s.median()])\n",
    "\n",
    "print(\"========= combine with numpy ==========\")\n",
    "\n",
    "print(np.exp(s))"
   ]
  },
  {
   "cell_type": "code",
   "execution_count": 76,
   "metadata": {},
   "outputs": [
    {
     "name": "stdout",
     "output_type": "stream",
     "text": [
      "b    2\n",
      "dtype: int64\n",
      "b    2\n",
      "c    3\n",
      "dtype: int64\n",
      "b    4.0\n",
      "c    NaN\n",
      "dtype: float64\n"
     ]
    }
   ],
   "source": [
    "\"\"\"\n",
    "If a label is not found\n",
    "in one Series or the other, the result will be marked as missing NaN\n",
    "\"\"\"\n",
    "\n",
    "print(s[1:2])\n",
    "print(s[1:3])\n",
    "\n",
    "# not found a label \"c\" and then replace with NaN\n",
    "print(s[1:2] + s[1:3])"
   ]
  },
  {
   "cell_type": "code",
   "execution_count": 79,
   "metadata": {},
   "outputs": [
    {
     "data": {
      "text/plain": [
       "b    4.0\n",
       "dtype: float64"
      ]
     },
     "execution_count": 79,
     "metadata": {},
     "output_type": "execute_result"
    }
   ],
   "source": [
    "\"\"\"\n",
    "    we can eliminate NaN using `dropna`\n",
    "\"\"\"\n",
    "\n",
    "s_nan = (s[1:2] + s[1:3])\n",
    "s_nan.dropna()"
   ]
  },
  {
   "cell_type": "code",
   "execution_count": 91,
   "metadata": {},
   "outputs": [
    {
     "data": {
      "text/html": [
       "<div>\n",
       "<style scoped>\n",
       "    .dataframe tbody tr th:only-of-type {\n",
       "        vertical-align: middle;\n",
       "    }\n",
       "\n",
       "    .dataframe tbody tr th {\n",
       "        vertical-align: top;\n",
       "    }\n",
       "\n",
       "    .dataframe thead th {\n",
       "        text-align: right;\n",
       "    }\n",
       "</style>\n",
       "<table border=\"1\" class=\"dataframe\">\n",
       "  <thead>\n",
       "    <tr style=\"text-align: right;\">\n",
       "      <th></th>\n",
       "      <th>series_name</th>\n",
       "    </tr>\n",
       "  </thead>\n",
       "  <tbody>\n",
       "    <tr>\n",
       "      <th>a</th>\n",
       "      <td>1</td>\n",
       "    </tr>\n",
       "    <tr>\n",
       "      <th>b</th>\n",
       "      <td>2</td>\n",
       "    </tr>\n",
       "    <tr>\n",
       "      <th>c</th>\n",
       "      <td>3</td>\n",
       "    </tr>\n",
       "  </tbody>\n",
       "</table>\n",
       "</div>"
      ],
      "text/plain": [
       "   series_name\n",
       "a            1\n",
       "b            2\n",
       "c            3"
      ]
     },
     "execution_count": 91,
     "metadata": {},
     "output_type": "execute_result"
    }
   ],
   "source": [
    "\"\"\"\n",
    "    Name Atrribute\n",
    "\n",
    "    Series name is a colum name when using in dataframe\n",
    "\"\"\"\n",
    "\n",
    "s_name = pd.Series([1,2,3],index=['a','b','c'], name=\"series_name\")\n",
    "\n",
    "# Create DataFrame given a series\n",
    "df = pd.DataFrame(s_name)\n",
    "df"
   ]
  },
  {
   "cell_type": "markdown",
   "metadata": {},
   "source": [
    "# DataFrame"
   ]
  },
  {
   "cell_type": "code",
   "execution_count": null,
   "metadata": {},
   "outputs": [],
   "source": [
    "# explained\n",
    "# https://www.datasciencemadesimple.com/create-series-in-python-pandas/"
   ]
  },
  {
   "cell_type": "code",
   "execution_count": null,
   "metadata": {},
   "outputs": [],
   "source": [
    "\"\"\"\n",
    "\n",
    "DataFrame is a 2-dimensional labeled data structure with columns of potentially different types.\n",
    "You can think of it like a spreadsheet or SQL table, or a dict of Series objects.\n",
    "\n",
    "you can optionally pass index (row labels) and columns (column labels) arguments.\n",
    "\n",
    "DataFrame accepts many different kinds of input:\n",
    "\n",
    "    • Dict of 1D ndarrays, lists, dicts, or Series\n",
    "    • 2-D numpy.ndarray\n",
    "    • Structured or record ndarray (https://numpy.org/doc/stable/user/basics.rec.html#structured-arrays)\n",
    "    • A Series\n",
    "    • Another DataFrame\n",
    "\n",
    "\"\"\""
   ]
  },
  {
   "cell_type": "code",
   "execution_count": 119,
   "metadata": {},
   "outputs": [
    {
     "name": "stdout",
     "output_type": "stream",
     "text": [
      "   s_1  s_2  s_3\n",
      "a    1    4  NaN\n",
      "b    2    5  NaN\n",
      "c    3    6  NaN\n",
      "\n",
      "========== Add new series 3 ============\n",
      "   s_1  s_2  s_3\n",
      "a    1    4    7\n",
      "b    2    5    8\n",
      "c    3    6    9\n"
     ]
    }
   ],
   "source": [
    "\"\"\"\n",
    "    Create DataFrame from dict of series\n",
    "\"\"\"\n",
    "\n",
    "s_1 = pd.Series([1,2,3],index=[\"a\", \"b\", \"c\"])\n",
    "s_2 = pd.Series([4,5,6],index=[\"a\", \"b\", \"c\"])\n",
    "\n",
    "dict_s = {\n",
    "    \"s_1\" : s_1,\n",
    "    \"s_2\" : s_2\n",
    "}\n",
    "\n",
    "# s_3: there isn't that column name which replace by NaN\n",
    "d = pd.DataFrame(dict_s, columns=['s_1', \"s_2\", \"s_3\"])\n",
    "\n",
    "print(d)\n",
    "\n",
    "s_3 = pd.Series([7,8,9],index=[\"a\", \"b\", \"c\"])\n",
    "d[\"s_3\"] = s_3\n",
    "\n",
    "print(\"\\n========== Add a new series 3 ============\")\n",
    "print(d)"
   ]
  },
  {
   "cell_type": "code",
   "execution_count": 128,
   "metadata": {},
   "outputs": [
    {
     "data": {
      "text/html": [
       "<div>\n",
       "<style scoped>\n",
       "    .dataframe tbody tr th:only-of-type {\n",
       "        vertical-align: middle;\n",
       "    }\n",
       "\n",
       "    .dataframe tbody tr th {\n",
       "        vertical-align: top;\n",
       "    }\n",
       "\n",
       "    .dataframe thead th {\n",
       "        text-align: right;\n",
       "    }\n",
       "</style>\n",
       "<table border=\"1\" class=\"dataframe\">\n",
       "  <thead>\n",
       "    <tr style=\"text-align: right;\">\n",
       "      <th></th>\n",
       "      <th>No_1</th>\n",
       "      <th>One</th>\n",
       "    </tr>\n",
       "  </thead>\n",
       "  <tbody>\n",
       "    <tr>\n",
       "      <th>0</th>\n",
       "      <td>1</td>\n",
       "      <td>1</td>\n",
       "    </tr>\n",
       "    <tr>\n",
       "      <th>1</th>\n",
       "      <td>1</td>\n",
       "      <td>1</td>\n",
       "    </tr>\n",
       "  </tbody>\n",
       "</table>\n",
       "</div>"
      ],
      "text/plain": [
       "   No_1  One\n",
       "0     1    1\n",
       "1     1    1"
      ]
     },
     "execution_count": 128,
     "metadata": {},
     "output_type": "execute_result"
    }
   ],
   "source": [
    "\"\"\"\n",
    "\n",
    "    create pandas from structured or record array\n",
    "\n",
    "\"\"\"\n",
    "\n",
    "data = np.ones(shape=(2,),dtype=[(\"No_1\", \"i4\"), (\"One\", \"i4\")])\n",
    "pd.DataFrame(data)"
   ]
  }
 ],
 "metadata": {
  "kernelspec": {
   "display_name": "Python 3.9.12 64-bit",
   "language": "python",
   "name": "python3"
  },
  "language_info": {
   "codemirror_mode": {
    "name": "ipython",
    "version": 3
   },
   "file_extension": ".py",
   "mimetype": "text/x-python",
   "name": "python",
   "nbconvert_exporter": "python",
   "pygments_lexer": "ipython3",
   "version": "3.9.12"
  },
  "orig_nbformat": 4,
  "vscode": {
   "interpreter": {
    "hash": "b0fa6594d8f4cbf19f97940f81e996739fb7646882a419484c72d19e05852a7e"
   }
  }
 },
 "nbformat": 4,
 "nbformat_minor": 2
}
